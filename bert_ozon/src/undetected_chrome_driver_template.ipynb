{
 "cells": [
  {
   "cell_type": "code",
   "execution_count": 1,
   "id": "4abb6932",
   "metadata": {},
   "outputs": [],
   "source": [
    "from selenium import webdriver\n",
    "from selenium.webdriver.common.desired_capabilities import DesiredCapabilities\n",
    "\n",
    "from selenium.webdriver.common.by import By\n",
    "from selenium.webdriver.support.ui import WebDriverWait\n",
    "from selenium.webdriver.support import expected_conditions as EC\n",
    "from bs4 import BeautifulSoup\n",
    "import undetected_chromedriver as uc\n",
    "from IPython.display import display\n",
    "\n",
    "from selenium.webdriver.support.ui import WebDriverWait\n",
    "from selenium.webdriver.common.by import By\n",
    "from selenium.common.exceptions import TimeoutException\n",
    "import time\n",
    "from bs4 import BeautifulSoup\n",
    "from selenium.webdriver.common.action_chains import ActionChains\n",
    "from selenium.webdriver.common.keys import Keys\n",
    "import undetected_chromedriver as uc\n",
    "from time import sleep\n",
    "import random\n",
    "from seleniumwire.utils import decode\n",
    "import json\n",
    "\n",
    "from bs4 import BeautifulSoup\n",
    "from urllib.parse import urlparse\n",
    "\n",
    "from tqdm.auto import tqdm, trange\n",
    "import pandas as pd\n",
    "import time\n",
    "import os\n",
    "import seleniumwire.undetected_chromedriver as uc\n",
    "import traceback\n",
    "from collections import defaultdict\n",
    "\n",
    "import re\n",
    "\n",
    "import requests\n",
    "\n",
    "import numpy as np\n",
    "\n",
    "import concurrent.futures\n",
    "from concurrent.futures import ThreadPoolExecutor\n",
    "from concurrent.futures import ProcessPoolExecutor"
   ]
  },
  {
   "cell_type": "code",
   "execution_count": 2,
   "id": "1c77c813",
   "metadata": {},
   "outputs": [],
   "source": [
    "def create_driver():\n",
    "    chrome_options = uc.ChromeOptions()\n",
    "    chrome_options.add_argument(\"--ignore-certificate-errors\")\n",
    "    chrome_options.add_argument('--disable-dev-shm-usage')\n",
    "    chrome_options.add_argument('--disable-extensions')\n",
    "    chrome_options.add_argument('--disable-gpu')\n",
    "    chrome_options.add_argument('--blink-settings=imagesEnabled=false')\n",
    "    chrome_options.page_load_strategy = 'none'\n",
    "\n",
    "    driver = uc.Chrome(\n",
    "            options=chrome_options,\n",
    "            seleniumwire_options={}\n",
    "    )\n",
    "    return driver"
   ]
  },
  {
   "cell_type": "markdown",
   "id": "2937e7cc",
   "metadata": {},
   "source": [
    "## Базовый пример"
   ]
  },
  {
   "cell_type": "code",
   "execution_count": 17,
   "id": "660c7bdc",
   "metadata": {},
   "outputs": [
    {
     "data": {
      "text/plain": [
       "[Request(method='POST', url='https://accounts.google.com/ListAccounts?gpsia=1&source=ChromiumBrowser&json=standard', headers=[('content-length', '1'), ('origin', 'https://www.google.com'), ('content-type', 'application/x-www-form-urlencoded'), ('sec-fetch-site', 'none'), ('sec-fetch-mode', 'no-cors'), ('sec-fetch-dest', 'empty'), ('user-agent', 'Mozilla/5.0 (Macintosh; Intel Mac OS X 10_15_7) AppleWebKit/537.36 (KHTML, like Gecko) Chrome/117.0.0.0 Safari/537.36'), ('accept-encoding', 'gzip, deflate, br'), ('accept-language', 'en-US,en;q=0.9')], body=b' '),\n",
       " Request(method='GET', url='https://clientservices.googleapis.com/chrome-variations/seed?osname=mac&channel=stable&milestone=117', headers=[('a-im', 'gzip'), ('sec-fetch-site', 'none'), ('sec-fetch-mode', 'no-cors'), ('sec-fetch-dest', 'empty'), ('user-agent', 'Mozilla/5.0 (Macintosh; Intel Mac OS X 10_15_7) AppleWebKit/537.36 (KHTML, like Gecko) Chrome/117.0.0.0 Safari/537.36'), ('accept-encoding', 'gzip, deflate, br')], body=b''),\n",
       " Request(method='GET', url='https://www.ozon.ru/product/shvabra-daris-dlina-120-sm-220337295', headers=[('sec-ch-ua', '\"Google Chrome\";v=\"117\", \"Not;A=Brand\";v=\"8\", \"Chromium\";v=\"117\"'), ('sec-ch-ua-mobile', '?0'), ('sec-ch-ua-platform', '\"macOS\"'), ('upgrade-insecure-requests', '1'), ('user-agent', 'Mozilla/5.0 (Macintosh; Intel Mac OS X 10_15_7) AppleWebKit/537.36 (KHTML, like Gecko) Chrome/117.0.0.0 Safari/537.36'), ('accept', 'text/html,application/xhtml+xml,application/xml;q=0.9,image/avif,image/webp,image/apng,*/*;q=0.8,application/signed-exchange;v=b3;q=0.7'), ('sec-fetch-site', 'none'), ('sec-fetch-mode', 'navigate'), ('sec-fetch-user', '?1'), ('sec-fetch-dest', 'document'), ('accept-encoding', 'gzip, deflate, br'), ('accept-language', 'en-US,en;q=0.9')], body=b''),\n",
       " Request(method='GET', url='https://www.ozon.ru/cdn-cgi/styles/challenges.css', headers=[('sec-ch-ua', '\"Google Chrome\";v=\"117\", \"Not;A=Brand\";v=\"8\", \"Chromium\";v=\"117\"'), ('sec-ch-ua-mobile', '?0'), ('user-agent', 'Mozilla/5.0 (Macintosh; Intel Mac OS X 10_15_7) AppleWebKit/537.36 (KHTML, like Gecko) Chrome/117.0.0.0 Safari/537.36'), ('sec-ch-ua-platform', '\"macOS\"'), ('accept', 'text/css,*/*;q=0.1'), ('sec-fetch-site', 'same-origin'), ('sec-fetch-mode', 'no-cors'), ('sec-fetch-dest', 'style'), ('referer', 'https://www.ozon.ru/product/shvabra-daris-dlina-120-sm-220337295'), ('accept-encoding', 'gzip, deflate, br'), ('accept-language', 'en-US,en;q=0.9'), ('cookie', '__cf_bm=hHMYWmR4Ny1It9uyISPyAcv_XgR_W7jAoFcbQZy7i20-1696074071-0-AcqHDql6PaYkpHwr1U+ar6LbUDfO2lRveeDfVR48Wfb2ty6Q5oxwcb38h9zlWzwpFXs75QkHKXCPc+T61xybWkQ=')], body=b''),\n",
       " Request(method='GET', url='https://www.ozon.ru/cdn-cgi/challenge-platform/h/g/orchestrate/chl_page/v1?ray=80ec3201faff2de6', headers=[('sec-ch-ua', '\"Google Chrome\";v=\"117\", \"Not;A=Brand\";v=\"8\", \"Chromium\";v=\"117\"'), ('sec-ch-ua-mobile', '?0'), ('user-agent', 'Mozilla/5.0 (Macintosh; Intel Mac OS X 10_15_7) AppleWebKit/537.36 (KHTML, like Gecko) Chrome/117.0.0.0 Safari/537.36'), ('sec-ch-ua-platform', '\"macOS\"'), ('accept', '*/*'), ('sec-fetch-site', 'same-origin'), ('sec-fetch-mode', 'no-cors'), ('sec-fetch-dest', 'script'), ('referer', 'https://www.ozon.ru/product/shvabra-daris-dlina-120-sm-220337295?__cf_chl_rt_tk=1VuODeMsruaubua_NSTKUvM3TKWvLmRYxaOwQFvzcpQ-1696074071-0-gaNycGzNDLs'), ('accept-encoding', 'gzip, deflate, br'), ('accept-language', 'en-US,en;q=0.9'), ('cookie', '__cf_bm=hHMYWmR4Ny1It9uyISPyAcv_XgR_W7jAoFcbQZy7i20-1696074071-0-AcqHDql6PaYkpHwr1U+ar6LbUDfO2lRveeDfVR48Wfb2ty6Q5oxwcb38h9zlWzwpFXs75QkHKXCPc+T61xybWkQ=')], body=b''),\n",
       " Request(method='POST', url='https://www.ozon.ru/cdn-cgi/challenge-platform/h/g/flow/ov1/1801087530:1696072054:cHmS9p4aUOH3yHZApBZc4k-jN1r5UCxAcPMgoTxioSg/80ec3201faff2de6/ca94984bae445be', headers=[('content-length', '1934'), ('sec-ch-ua', '\"Google Chrome\";v=\"117\", \"Not;A=Brand\";v=\"8\", \"Chromium\";v=\"117\"'), ('content-type', 'application/x-www-form-urlencoded'), ('sec-ch-ua-mobile', '?0'), ('user-agent', 'Mozilla/5.0 (Macintosh; Intel Mac OS X 10_15_7) AppleWebKit/537.36 (KHTML, like Gecko) Chrome/117.0.0.0 Safari/537.36'), ('cf-challenge', 'ca94984bae445be'), ('sec-ch-ua-platform', '\"macOS\"'), ('accept', '*/*'), ('origin', 'https://www.ozon.ru'), ('sec-fetch-site', 'same-origin'), ('sec-fetch-mode', 'cors'), ('sec-fetch-dest', 'empty'), ('referer', 'https://www.ozon.ru/product/shvabra-daris-dlina-120-sm-220337295'), ('accept-encoding', 'gzip, deflate, br'), ('accept-language', 'en-US,en;q=0.9'), ('cookie', '__cf_bm=hHMYWmR4Ny1It9uyISPyAcv_XgR_W7jAoFcbQZy7i20-1696074071-0-AcqHDql6PaYkpHwr1U+ar6LbUDfO2lRveeDfVR48Wfb2ty6Q5oxwcb38h9zlWzwpFXs75QkHKXCPc+T61xybWkQ=; cf_chl_2=ca94984bae445be')], body=b'v_80ec3201faff2de6=AGolml3lzlylalKtCdl3dlSKTx%2bVEHYcMlwKlcmocXDztTG+7cop7lxdcxcWcTN8Jt+ActwzcDQJwykcOdHEzlxGkcE7N6zkzUlQxcDlasycbPrrcjlTrcSDccjGqkohcJkyhHpc3DOJjc4d8zcc8cCegsoklcAlcgcTy84YCE560k4lca$8MM6DDpcQr8cabsHwXgKl+qcH-VQAKj1EoxcH3Mxh+XAubE7kf5k+iGHxhx5Llc3t+CKMD5QLzKY5phXplcSfLAinGjpd+$cZRjSc-CLLthWwLG+tTwlcRXQFTctedd6sTocEGcQNyfanOcVETKwPd+OLPaKUpLfed3qjdYYPOtxqjBadrVncHxMYKy6rGWCy+g5xRpMXuQg5Iwc3ofcKE$lqOgt4pvkHnjKowcfcLsTSzJwoYP1EDkcWFoSdYLmOp8yPnw+fODnr61Qo56MdTY$F5vIft+HFOKwkWkw+-EXzD-nGty8GKwXJxdc46GMatBlcqHJFhyK+zT3T+AAQLox+8cIXK6N7XiUccks3pqD0TcgQmKxeBT3KdYoWEmBQGOctQXlFctx+LU-8dYGHIBBlTnHxDTo4bmfOt44mQtgBlVorYsYG+EoJjp2PKXD4Qfafr72smahljb8bIh5fwxit5NyAryWH$UJwJcdwplsctPE8ttlmPKzYrxwtNJpwJd-wwjS6crUDOaidl3wTVJX3Kwp$oygJdctTH7ItDd$LGOHG+laWzomUDmQcO+gTKoO1-rWH7+8nc$8KFcGwYftYJlnwfsoBJvkmYaz+KhJvodKcKFGDwIA8Zl33TNlqCdFw6IX+tMPckgt3rHClodNloxo2MEcUoXd3cUJ+wYmfK+jwHmxr$kzQKotGIynwbxhu+BoMWXvQctXoFdDfXAoAt$POKlEapp-tHrZp6chnHkQc7prHrgJvAhdDiotgpqzGwpIcr8dMWKr6wwtPlMsoD+UAxrtk+znOTTT-wTxhfHOQcuwUFdBwiItWO6TTwHjchz5kcmw+BIhl-vSQ1fKIy+twFGZJ66rAOgF34lqHc4Dnchr6J5tTHGAoW+Kcl7lPbhXpIHlK+Qaircx7LmpLTT7ppclW5zcofP3FdKkTTKr68vlsDwodPHmCGr+oxt5NwCxSUsH0GenStOwbxrQNTAhn+XShVIGIMs+GzhE+B3KZwrTlEH7Sh7lkAd-wnxtdDGFGRLsHlrOmIlD+XSQ3JfSKZJXItdpVap3pGxV4ttIh$k$xh7l5Aop4GJ8f6nSKsDzIt3rowYzgX+l4tKAd5dxhbZH3cUxHnItrHTac5dgot2lZ5h$S13TrcJap5ftxrscMJlPprodPJFqr2+E+ordwazZUAod5Uz3c+O$3zdlwxrjfvxn3HjCxjwp3T4dSMGwRFClTDTH+K+ExotO7uQucGHHPHFT$Z+G-lcW7+Kt6L0hDdqHltXGPp4tazGmVRudmlFwcdk6FdOcJ3lXJ+TKBwuhtPHi+KoOmTTggaaIvHhcrTcdShmprShPDikm4XX+zzgBJicBzCGxHGk23c5+cwtNJwH73TcokoBJgHOH$otFcfXi++aBchIKu+ao$-T3d2tscMdgaBHlxYPltpsHywY6dJ+2RyHyoc0c5lAD3HjJiO8NJWDka0Jichs+qORYDabKhZJMpf-$sxjK$C0ctToXztlJ+MJRfc+cjJocSwU34htacBcrdqQmQT5t3l3+QTYShgdTcScaVoIlQGKchcK+d+8jKWXEcoanHckoslGcJc0xnccvJt+88dXU6Q6DGklDsSo44xwc6hr+1JEahAoXGGO-tOmYSoTdLcAcl+lABCEQXNZMozH3QohHd8qH$+z2tslllFaO6cHmJ+Qwx+LwdbCcJkwrHCAGACuptcf383cacVlEHbUtKt6ftc'),\n",
       " Request(method='GET', url='https://challenges.cloudflare.com/turnstile/v0/g/dffb14d6/api.js?onload=AsGt1&render=explicit', headers=[('sec-ch-ua', '\"Google Chrome\";v=\"117\", \"Not;A=Brand\";v=\"8\", \"Chromium\";v=\"117\"'), ('origin', 'https://www.ozon.ru'), ('sec-ch-ua-mobile', '?0'), ('user-agent', 'Mozilla/5.0 (Macintosh; Intel Mac OS X 10_15_7) AppleWebKit/537.36 (KHTML, like Gecko) Chrome/117.0.0.0 Safari/537.36'), ('sec-ch-ua-platform', '\"macOS\"'), ('accept', '*/*'), ('sec-fetch-site', 'cross-site'), ('sec-fetch-mode', 'cors'), ('sec-fetch-dest', 'script'), ('accept-encoding', 'gzip, deflate, br'), ('accept-language', 'en-US,en;q=0.9')], body=b''),\n",
       " Request(method='GET', url='https://challenges.cloudflare.com/cdn-cgi/challenge-platform/h/g/turnstile/if/ov2/av0/rcv0/0/zjy5b/0x4AAAAAAADnPIDROrmt1Wwj/light/normal', headers=[('sec-ch-ua', '\"Google Chrome\";v=\"117\", \"Not;A=Brand\";v=\"8\", \"Chromium\";v=\"117\"'), ('sec-ch-ua-mobile', '?0'), ('sec-ch-ua-platform', '\"macOS\"'), ('upgrade-insecure-requests', '1'), ('user-agent', 'Mozilla/5.0 (Macintosh; Intel Mac OS X 10_15_7) AppleWebKit/537.36 (KHTML, like Gecko) Chrome/117.0.0.0 Safari/537.36'), ('accept', 'text/html,application/xhtml+xml,application/xml;q=0.9,image/avif,image/webp,image/apng,*/*;q=0.8,application/signed-exchange;v=b3;q=0.7'), ('sec-fetch-site', 'cross-site'), ('sec-fetch-mode', 'navigate'), ('sec-fetch-dest', 'iframe'), ('accept-encoding', 'gzip, deflate, br'), ('accept-language', 'en-US,en;q=0.9')], body=b''),\n",
       " Request(method='GET', url='https://challenges.cloudflare.com/cdn-cgi/challenge-platform/h/g/orchestrate/chl_api/v1?ray=80ec3206bfaf164e', headers=[('sec-ch-ua', '\"Google Chrome\";v=\"117\", \"Not;A=Brand\";v=\"8\", \"Chromium\";v=\"117\"'), ('sec-ch-ua-mobile', '?0'), ('user-agent', 'Mozilla/5.0 (Macintosh; Intel Mac OS X 10_15_7) AppleWebKit/537.36 (KHTML, like Gecko) Chrome/117.0.0.0 Safari/537.36'), ('sec-ch-ua-platform', '\"macOS\"'), ('accept', '*/*'), ('sec-fetch-site', 'same-origin'), ('sec-fetch-mode', 'no-cors'), ('sec-fetch-dest', 'script'), ('referer', 'https://challenges.cloudflare.com/cdn-cgi/challenge-platform/h/g/turnstile/if/ov2/av0/rcv0/0/zjy5b/0x4AAAAAAADnPIDROrmt1Wwj/light/normal'), ('accept-encoding', 'gzip, deflate, br'), ('accept-language', 'en-US,en;q=0.9')], body=b''),\n",
       " Request(method='GET', url='https://www.ozon.ru/favicon.ico', headers=[('sec-ch-ua', '\"Google Chrome\";v=\"117\", \"Not;A=Brand\";v=\"8\", \"Chromium\";v=\"117\"'), ('sec-ch-ua-mobile', '?0'), ('user-agent', 'Mozilla/5.0 (Macintosh; Intel Mac OS X 10_15_7) AppleWebKit/537.36 (KHTML, like Gecko) Chrome/117.0.0.0 Safari/537.36'), ('sec-ch-ua-platform', '\"macOS\"'), ('accept', 'image/avif,image/webp,image/apng,image/svg+xml,image/*,*/*;q=0.8'), ('sec-fetch-site', 'same-origin'), ('sec-fetch-mode', 'no-cors'), ('sec-fetch-dest', 'image'), ('referer', 'https://www.ozon.ru/product/shvabra-daris-dlina-120-sm-220337295'), ('accept-encoding', 'gzip, deflate, br'), ('accept-language', 'en-US,en;q=0.9'), ('cookie', '__cf_bm=hHMYWmR4Ny1It9uyISPyAcv_XgR_W7jAoFcbQZy7i20-1696074071-0-AcqHDql6PaYkpHwr1U+ar6LbUDfO2lRveeDfVR48Wfb2ty6Q5oxwcb38h9zlWzwpFXs75QkHKXCPc+T61xybWkQ=; cf_chl_2=ca94984bae445be')], body=b''),\n",
       " Request(method='POST', url='https://challenges.cloudflare.com/cdn-cgi/challenge-platform/h/g/flow/ov1/1697803157:1696072094:16o3sVg5LPCIHkZWSbyXzMhCDMDKxGXT4o4wFuosgfs/80ec3206bfaf164e/2b2ce6dd96783bd', headers=[('content-length', '3220'), ('sec-ch-ua', '\"Google Chrome\";v=\"117\", \"Not;A=Brand\";v=\"8\", \"Chromium\";v=\"117\"'), ('content-type', 'application/x-www-form-urlencoded'), ('sec-ch-ua-mobile', '?0'), ('user-agent', 'Mozilla/5.0 (Macintosh; Intel Mac OS X 10_15_7) AppleWebKit/537.36 (KHTML, like Gecko) Chrome/117.0.0.0 Safari/537.36'), ('cf-challenge', '2b2ce6dd96783bd'), ('sec-ch-ua-platform', '\"macOS\"'), ('accept', '*/*'), ('origin', 'https://challenges.cloudflare.com'), ('sec-fetch-site', 'same-origin'), ('sec-fetch-mode', 'cors'), ('sec-fetch-dest', 'empty'), ('referer', 'https://challenges.cloudflare.com/cdn-cgi/challenge-platform/h/g/turnstile/if/ov2/av0/rcv0/0/zjy5b/0x4AAAAAAADnPIDROrmt1Wwj/light/normal'), ('accept-encoding', 'gzip, deflate, br'), ('accept-language', 'en-US,en;q=0.9')], body=b'v_80ec3206bfaf164e=x2JGHGIGEGuGsGoM3VGIVGroMLosH$nNLG3c2$0JNx$Nao-0N3Ga2-6NJi6G1VNETNFIUlGlNm7aNkqS4NNSoZMLPiGr2hNPGNoHSjl9loNFGsENtGsogRNnl-IN$2VNnQxmphNJA5hN2F%2bwGmN$6r5GNaG-1S44EbiVNrkJNZEciNf9VnSKZgf9fCaniEYNELnXOeLMBNnJNY6lNUKVwxz1czaCOMqI9wAm2LCGwBLCh7ge-jkJNh5ooTYNMLLyhz-4XyqFJgTaN+-sujRVNAE5onlfajEOJ9OJNX4RflGL6DV-waGVwNJJECrGNn+2fi1qiioGNL4DNIr0-aTze9Q7aZiT-aqIbdNR94anGN7Ad5DVrxF73VrPOb1koq94PVEn4X3$Rn49clhoOrqNUqI93LNFJhCMxwsuD1WCbGN$iWNGOPVMPPwnfBLo1KrLPUSYCcOD9FtRMDHhMBT6R7r9iGBJuNLxkgedCKcl9mzoY-2A6rYzkv5Iua2nCKu7-g41lz3yGGJTanQCJEnaThcCbn42VkhXXVc$jvdJJ1+eTbETIFQ12rjDnpqXaNOtuDKR--RllPrsMBstxMS-OHIIkxx4NVefFg4JYJl9xeyGNIrFuZbZcbGD+9MnN2b-MFsLN2BU1gMNDGNRr00nKOzdJZo0zQNc3ksNoaVHXIvGHNcooddmrZn5bdnKr-JOCrNomJrG7Ll3bFVid-I$x1QhXJMaq$0MIiardNJsVwr0IXCOB-23NTIjnI9wjI26LNfurNowI2igOOuPKOOcKKqGHFowI9YCMGq4uOOFY6o2JFwIG6si$JomwD22$qf-vSTCbLs6coY$$sGrI0s23LJx4LHTgONMcMpJMGoVX-B-No-un-cmND2DnE-GTNGwaTLlf4yLoPbILGna3sif-RnhDJ$YE$3La-ItnMiI2JnEcHcNon4FIQg2Ss2POgY6gtbzw34ILlPRdnfouX4z3bFX-qa7NVaubH-MzisDI2qL$3NnL$cl0aHDae0Ksb9iGr3yGVceEs6q-k$2PM7I0q467Eq4gGVd-+-GMaonKn4RsistE$ZMpyNnstI-BJJTsi3JoIi0Ma5V33x-4CMasrdNnNVx3+sb3VY-YdN1+ajbOL$MVWJG7le+Gr-mNMJk4zjVuZ0fJJc$GcCXGXAooIQs2-Nif-dsbOOvYbxGnSVLV0-Ys2lLGoVuq6CVVv6IMXXaa9daJI2GGMAeL-4oby$$3V6nVnNn-Yq4xnuIMHGGMpFIETk$-uAocnVstyGif49SEemzJco2Y-BqGASJfNn-2ouf9BM4ENIMa0sQc3kaHsVasbc9R$XobviZZVVsCr-uAiOgviHEGHXTrJARXD3$aJc9g44Ms9XH3JDIP3VUIE3JhKjD2GX4s2JsbPbksb-NbOGg2PnrIOcY2-lGiMMbd7a3N7sEI4OqbnanNcIGHFJst9GVc7jYir$nnrrNnXQVmTX-DbFNVqaVSVn4dmi-sd-BrJG6toVY-le+6JNASaDVenQCM6nbYtgiwxGAjGoGDLG1N3aCnWh$p4NrjxJrJq4EarzJMVCx+LPNXLVnN3GmOXs6JD1Pg2qF7$waGrNbNJGwIh$H3VZ-ENB$GNNXNb-A$HLwrMnG44$$0STTVgDBJGGBa4rM-lrtLNuNoLu1BILiLUsM10qaaNAFmNMzCMuBJJGVNr4GCMQOL$cIXfWMOVGGGM-Xx2o2zbI$csC42LVV3R-MaXMH3Gk3F4Es2nM1NdCq$lT2NGD2pVp2M-2-ao2rJomvNlONsOjNHGJnJTa-G1Oe--$wzJNr1Grk5NGL2PMT7IN+XRFNoVS4dM5a4ToIMRMscasirMIMzN7NCffraXNwN0LsSfLMON6wTN+KhIKIfANHGH$2$cOMaOy4+nnEC-N52oLunfL2qaoZ7ovVNzyCs36uoVBJA2-IlsNs2zbdmva-IoaNHllLoLyK$qefedL2I39o7N6GMNVn6EZoG4NOnvxE1sDJT4A$v1wLuo2euV4qflLNcoZJ0LoT0cJnGx-AmB-6MEXNuOI-MLl-GmGp4GGVSlTaclz-ENVS6wNdMR-E$nnKrMD2b-QLlaHsNsGTbjCr5NAMnZpb2mTFJTomizV3L$-o1oIMm4gGULJ$$qNAt4+CaJLfLVjQYlUa4$pdwdOB$0YVzcPHEGnNVF0gMPlMOsNi3NzECVSLF$UnVzJ1NxNJLm---2zGCiX-3-4zi$MaO9MPC9sXLNRGvz2Y2aXAortuwUnnruT7sLF4pNu1Jna9xe$j423lqNWNn-M-4L2g2QexNMIE-GOM3le+2nhJlPM949OFnExoZueNX49Ncx1C1+Ry-MnENnVaj4QjyIaxrnRjGU-ZNcsN9Jzb6k7arNH-$eL12-EH1vscwMlNx-+gonG6bhFeloJ$1Nyu2No-zMGvaybuNjCXgG$JyVnLoaAmMmMtJ6JMLwflcV94c4MnhzjiJoOkNOsCxGdN4-r25aHzofGRMBMxsEToPpL-gi4GoxrCMgNJ4EsbnMcVr2QLmIhIDiJG3RFunEsBjVBNc-fLENVOM4N6-lZCQoqJQM2VOs0nXd1rXde3-u$lmMBJq$ZoMyozGNonNCOpF4xGj4GUmORfCCMB-I$MGgm2DVjnEylDvhO9VdpSrrRNHC$SDnnGw-zApr19x$NEnS$cLVn-BNKxEWBQJnoasd0rL$OMwOL-uFYZp$JluHF5isCXnZZcS+fnSzFfOl4uvPLkA2I2l4bawIanM7S1PFwKGurnrG0NPNxLofixBK7240qDnWLXLMU-V-OM-U++V2-EiJ6lcCLNU$iaCToAc-tuLhL-oUrJyVfeH$GaGoVcOgFyMnWZMiLJ2z7NMzavSx-oEhNoTVcCbbvR3Jo3lg2l4reZLXH2clb-R$1$fKAO0HVUHW+2VHcIS4OQfnAqispXY94ZN45iPjyhx65cGIYPCH9hjcNlO2LLp4jfM4XNVg7xNi3d6a-2JDRM$CM$G2MIMh-LJ5IbVNfSrsu6GDTGisXJaVoVLNGGosEJDIMaNP$XDtNNPGoTG3GemPqonJTHeY07xLrtCnMeYEG0iyI0foPMwN4LC-BJq3GHTHLlWE3Fys4tZZ5N3HmXYJOhL7NV-GIGE1MLuaTnVNMoMDSRL1mzO-fd4-Ilizco2WJHNusrfocGQGWsaIraJ7Ny66-+1NN')]"
      ]
     },
     "execution_count": 17,
     "metadata": {},
     "output_type": "execute_result"
    }
   ],
   "source": [
    "url = 'https://www.ozon.ru/product/shvabra-daris-dlina-120-sm-220337295'\n",
    "\n",
    "# Open webpage\n",
    "driver = create_driver()\n",
    "driver.get(url)\n",
    "\n",
    "# It takes some time to load the page, we need to wait for requests that we want to parse\n",
    "sleep(5)\n",
    "\n",
    "# This contains all the requests page was able to make once the sleep has passed\n",
    "driver.requests"
   ]
  },
  {
   "cell_type": "markdown",
   "id": "552798c3",
   "metadata": {},
   "source": [
    "## Пример использования на сайте DNS"
   ]
  },
  {
   "cell_type": "code",
   "execution_count": 3,
   "id": "2ceccc4b",
   "metadata": {},
   "outputs": [],
   "source": [
    "regions = ['Москва', 'Санкт-Петербург', 'Казань']\n",
    "shops_url='https://shops.dns-shop.ru/v1/shops-avail-by-partition'\n",
    "\n",
    "siteId = \"8c2e120b-8732-48a7-8178-0e04d47962d8\"\n",
    "cityIds = {\n",
    "    \"Москва\" : \"30b7c1f3-03fb-11dc-95ee-00151716f9f5\",\n",
    "    \"Санкт-Петербург\" : \"566ca284-5bea-11e2-aee1-00155d030b1f\",\n",
    "    \"Казань\" : \"55506b55-0565-11df-9cf0-00151716f9f5\",\n",
    "}\n",
    "city_paths = {\n",
    "    \"Москва\" : \"moscow\",\n",
    "    \"Санкт-Петербург\" : \"spb\",\n",
    "    \"Казань\" : \"kazan\",\n",
    "}"
   ]
  },
  {
   "cell_type": "code",
   "execution_count": 4,
   "id": "5fc80fb1",
   "metadata": {},
   "outputs": [],
   "source": [
    "def get_price_page(microdata_request, city_path):\n",
    "    cookie = microdata_request.headers['Cookie'].split(' ')\n",
    "    for i in range(len(cookie)):\n",
    "        if 'city_path' in cookie[i]:\n",
    "            cookie[i] = f'city_path={city_path};'\n",
    "    headers = dict(microdata_request.headers)\n",
    "    headers['Cookie'] = ' '.join(cookie)\n",
    "    \n",
    "    response = requests.get(microdata_request.url, headers=headers)\n",
    "    \n",
    "    if response.status_code != 200:\n",
    "        raise Exception(f'smth wrong with price request: Status Code is {response.status_code}') \n",
    "\n",
    "    return response.json()"
   ]
  },
  {
   "cell_type": "code",
   "execution_count": 5,
   "id": "6871b006",
   "metadata": {},
   "outputs": [],
   "source": [
    "def get_price(price_page):\n",
    "    price = priceCurrency = None\n",
    "    if 'offers' in price_page['data'].keys() and 'price' in price_page['data']['offers'].keys():\n",
    "        price = price_page['data']['offers']['price']\n",
    "        priceCurrency = price_page['data']['offers']['priceCurrency']\n",
    "    return price, priceCurrency"
   ]
  },
  {
   "cell_type": "code",
   "execution_count": 6,
   "id": "c562b4a0",
   "metadata": {},
   "outputs": [],
   "source": [
    "def get_shops_page(siteId, cityId, productId):\n",
    "    headers= {\n",
    "        'Origin': 'https://www.dns-shop.ru',\n",
    "        'User-Agent': 'Mozilla/5.0 (Windows NT 10.0; Win64; x64)',\n",
    "    }\n",
    "\n",
    "    body= {\n",
    "        \"siteId\":siteId,\n",
    "        \"cityId\":cityId,\n",
    "        \"products\":[{\"id\":productId,\"count\":1}],\n",
    "        \"offset\":0,\n",
    "        \"notShowAvails\":False,\n",
    "        \"isCheckout\":False,\n",
    "        \"locales\":\"ru\",\n",
    "        \"isParentCityNeeded\":False,\n",
    "    }\n",
    "\n",
    "    response = requests.post(shops_url, headers=headers, json=body)\n",
    "    \n",
    "    if response.status_code != 200:\n",
    "        raise Exception(f'smth wrong with shops request: Status Code is {response.status_code}') \n",
    "\n",
    "    return response.json()\n",
    "    "
   ]
  },
  {
   "cell_type": "code",
   "execution_count": 7,
   "id": "93c2bd69",
   "metadata": {},
   "outputs": [],
   "source": [
    "def get_shops(shops_page, region):\n",
    "    shops = dict()\n",
    "    quantity_total = 0\n",
    "    for shop in shops_page['avail']['products'][0]['branches']:\n",
    "        if shop['maxCount'] > 0:\n",
    "            quantity_total += shop['maxCount']\n",
    "            shops[shop['branchId']] = {'quantity': shop['maxCount']}\n",
    "    for shop in shops_page['shops']:\n",
    "        shop_id = shop['id']\n",
    "        if shop_id not in shops.keys():\n",
    "            continue\n",
    "        new_keys = ['id', 'title', 'address', 'latitude', 'longitude', 'cityName']\n",
    "        for new_key in new_keys:\n",
    "            shops[shop_id][new_key] = shop[new_key]\n",
    "        shops[shop_id]['is_suburb'] = (shop['cityName'] != region)\n",
    "\n",
    "    return list(shops.values()), quantity_total"
   ]
  },
  {
   "cell_type": "code",
   "execution_count": 8,
   "id": "3b31d3fd",
   "metadata": {},
   "outputs": [],
   "source": [
    "def get_product_info(driver, url):\n",
    "    product_info = {}\n",
    "    product_info['url'] = url\n",
    "    \n",
    "    try:\n",
    "        del driver.requests\n",
    "        driver.get(url)\n",
    "\n",
    "        microdata_request = None\n",
    "\n",
    "        waiting_time = 50\n",
    "        sleep_time = 1\n",
    "        while(microdata_request == None):\n",
    "            if waiting_time <= 0:\n",
    "                raise Exception('waiting too long for microdata request')\n",
    "            waiting_time -= sleep_time\n",
    "            sleep(sleep_time)\n",
    "            for i in driver.requests:\n",
    "                if ('/microdata/' in i.url) and not (i.response is None):\n",
    "                    microdata_request = i\n",
    "                    \n",
    "        productId = microdata_request.url.split('/')[-2]\n",
    "                    \n",
    "        microdata_response = \\\n",
    "            json.loads(decode(microdata_request.response.body, \n",
    "                              microdata_request.response.headers.get('Content-Encoding', 'identity')).decode('utf-8'))\n",
    "\n",
    "\n",
    "        product_info['artikul'] = microdata_response['data']['sku']\n",
    "        \n",
    "\n",
    "        product_info['info_by_region'] = {}\n",
    "\n",
    "        for region in regions:\n",
    "            price_page = get_price_page(microdata_request, city_paths[region])\n",
    "            price, priceCurrency = get_price(price_page)\n",
    "            \n",
    "            shops_page = get_shops_page(siteId, cityIds[region], productId)\n",
    "            shops, quantity_total = get_shops(shops_page, region)\n",
    "            \n",
    "            product_info['info_by_region'][region] = {\n",
    "                'price' : price, 'priceCurrency' : priceCurrency, \n",
    "                'quantity' : shops, 'quantity_total' : quantity_total\n",
    "            }\n",
    "    except Exception as e:\n",
    "        product_info['errors'] = e\n",
    "    finally:\n",
    "        return product_info"
   ]
  },
  {
   "cell_type": "code",
   "execution_count": 9,
   "id": "e06c71db",
   "metadata": {},
   "outputs": [],
   "source": [
    "def get_products_info(urls):\n",
    "    attempts_count = 1\n",
    "    total_start_time = time.time()\n",
    "    products_info = []\n",
    "    driver = create_driver()\n",
    "    for url in tqdm(urls):\n",
    "        product_info = None\n",
    "        for attempt in range(attempts_count):\n",
    "            product_info = get_product_info(driver, url)\n",
    "            if 'errors' not in product_info.keys():\n",
    "                break\n",
    "        products_info.append(product_info)\n",
    "    driver.quit()\n",
    "    print(\"--- Total: %s seconds ---\" % (time.time() - total_start_time))\n",
    "    return products_info"
   ]
  },
  {
   "cell_type": "code",
   "execution_count": 10,
   "id": "feb63544",
   "metadata": {},
   "outputs": [],
   "source": [
    "urls = ['https://www.dns-shop.ru/product/0025277114ce3333/plita-kompaktnaa-elektriceskaa-kitfort-kt-125-cernyj/', 'https://www.dns-shop.ru/product/006e8a0b3c0a3332/robot-pylesos-dexp-lf200-belyj/', 'https://www.dns-shop.ru/product/011025865db73330/mikrofon-greenbean-voicehead-vh2-flesh-s-jack-rozovyj/', 'https://www.dns-shop.ru/product/02042da9ac893330/hlebopec-endever-skyline-mb-61-belyj/', 'https://www.dns-shop.ru/product/04e64465557d3332/mikrofon-zet-gaming-koradji-quatro-belyj/', 'https://www.dns-shop.ru/product/05efeac03db43333/otparivatel-vertikalnyj-kitfort-kt-979-krasnyj/', 'https://www.dns-shop.ru/product/06b5dd96dcabed20/mikrofon-synco-lav-s8-cernyj/', 'https://www.dns-shop.ru/product/08b8ed97ac15ed20/mikrofon-behringer-ta-312s-cernyj/', 'https://www.dns-shop.ru/product/08bd693ded633361/hlebopec-redmond-rbm-1908-belyj/', ]\n",
    "sample_size = 2\n",
    "urls_test = urls"
   ]
  },
  {
   "cell_type": "code",
   "execution_count": 11,
   "id": "bf2a3c0f",
   "metadata": {},
   "outputs": [
    {
     "data": {
      "application/vnd.jupyter.widget-view+json": {
       "model_id": "bf8aa56e1c4e407a9ed8afaed270233f",
       "version_major": 2,
       "version_minor": 0
      },
      "text/plain": [
       "  0%|          | 0/9 [00:00<?, ?it/s]"
      ]
     },
     "metadata": {},
     "output_type": "display_data"
    },
    {
     "name": "stdout",
     "output_type": "stream",
     "text": [
      "--- Total: 30.41555619239807 seconds ---\n"
     ]
    }
   ],
   "source": [
    "products_info = get_products_info(urls_test)"
   ]
  },
  {
   "cell_type": "code",
   "execution_count": 12,
   "id": "74baa8a6",
   "metadata": {},
   "outputs": [],
   "source": [
    "# проверка, есть ли ошибки\n",
    "for i in range(sample_size):\n",
    "    if 'errors' in products_info[i].keys():\n",
    "        print(i)"
   ]
  },
  {
   "cell_type": "code",
   "execution_count": 13,
   "id": "42a59066",
   "metadata": {},
   "outputs": [],
   "source": [
    "# преобразование в json\n",
    "ans = {}\n",
    "for product in products_info:\n",
    "    if 'url' in product.keys():\n",
    "        ans[product['url']] = product\n",
    "        \n",
    "with open('ans.txt', 'w', encoding='utf-8') as outfile:\n",
    "    json.dump(ans, outfile, ensure_ascii=False)"
   ]
  },
  {
   "cell_type": "markdown",
   "id": "7da06f7d",
   "metadata": {},
   "source": [
    "## Пример параллельного запуска"
   ]
  },
  {
   "cell_type": "code",
   "execution_count": 14,
   "id": "a07495ca",
   "metadata": {},
   "outputs": [],
   "source": [
    "def run_parallel(n_workers, urls):\n",
    "    urls_blocks = np.array_split(urls, n_workers)\n",
    "    out = []\n",
    "\n",
    "    with ThreadPoolExecutor(max_workers=n_workers) as executor:\n",
    "        parsing_futures = (executor.submit(get_products_info, urls_block) for urls_block in urls_blocks)\n",
    "        for future in concurrent.futures.as_completed(parsing_futures):\n",
    "\n",
    "            out += future.result() \n",
    "\n",
    "    return out"
   ]
  },
  {
   "cell_type": "code",
   "execution_count": 16,
   "id": "b83a8c3e",
   "metadata": {},
   "outputs": [
    {
     "data": {
      "application/vnd.jupyter.widget-view+json": {
       "model_id": "efe2b98014ca4616a5fa8253fba69f35",
       "version_major": 2,
       "version_minor": 0
      },
      "text/plain": [
       "  0%|          | 0/3 [00:00<?, ?it/s]"
      ]
     },
     "metadata": {},
     "output_type": "display_data"
    },
    {
     "data": {
      "application/vnd.jupyter.widget-view+json": {
       "model_id": "9b94c17672664060969b925e724ab852",
       "version_major": 2,
       "version_minor": 0
      },
      "text/plain": [
       "  0%|          | 0/3 [00:00<?, ?it/s]"
      ]
     },
     "metadata": {},
     "output_type": "display_data"
    },
    {
     "data": {
      "application/vnd.jupyter.widget-view+json": {
       "model_id": "bebd4b706879402e83baaecef0412c9e",
       "version_major": 2,
       "version_minor": 0
      },
      "text/plain": [
       "  0%|          | 0/3 [00:00<?, ?it/s]"
      ]
     },
     "metadata": {},
     "output_type": "display_data"
    },
    {
     "name": "stdout",
     "output_type": "stream",
     "text": [
      "--- Total: 33.42976999282837 seconds ---\n",
      "--- Total: 36.562315940856934 seconds ---\n",
      "--- Total: 36.661962032318115 seconds ---\n"
     ]
    }
   ],
   "source": [
    "sample_size = 100\n",
    "n_workers = 3\n",
    "urls_test = urls\n",
    "out = run_parallel(n_workers, urls_test)"
   ]
  },
  {
   "cell_type": "code",
   "execution_count": null,
   "id": "1aa205ae",
   "metadata": {},
   "outputs": [],
   "source": [
    "for i in range(10):\n",
    "    if 'errors' in out[i].keys():\n",
    "        print(i)"
   ]
  }
 ],
 "metadata": {
  "kernelspec": {
   "display_name": "Python 3 (ipykernel)",
   "language": "python",
   "name": "python3"
  },
  "language_info": {
   "codemirror_mode": {
    "name": "ipython",
    "version": 3
   },
   "file_extension": ".py",
   "mimetype": "text/x-python",
   "name": "python",
   "nbconvert_exporter": "python",
   "pygments_lexer": "ipython3",
   "version": "3.9.6"
  }
 },
 "nbformat": 4,
 "nbformat_minor": 5
}
